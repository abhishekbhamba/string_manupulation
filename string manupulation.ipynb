{
 "cells": [
  {
   "cell_type": "markdown",
   "id": "a291884d",
   "metadata": {},
   "source": [
    "# String manupulation"
   ]
  },
  {
   "cell_type": "code",
   "execution_count": 1,
   "id": "65f373ff",
   "metadata": {},
   "outputs": [],
   "source": [
    "word = \"school\""
   ]
  },
  {
   "cell_type": "code",
   "execution_count": 2,
   "id": "c7ced9a3",
   "metadata": {},
   "outputs": [
    {
     "data": {
      "text/plain": [
       "'h'"
      ]
     },
     "execution_count": 2,
     "metadata": {},
     "output_type": "execute_result"
    }
   ],
   "source": [
    "word[2]"
   ]
  },
  {
   "cell_type": "code",
   "execution_count": 3,
   "id": "250dc965",
   "metadata": {},
   "outputs": [
    {
     "data": {
      "text/plain": [
       "'ho'"
      ]
     },
     "execution_count": 3,
     "metadata": {},
     "output_type": "execute_result"
    }
   ],
   "source": [
    "word[2:4]"
   ]
  },
  {
   "cell_type": "code",
   "execution_count": 4,
   "id": "c64af872",
   "metadata": {},
   "outputs": [],
   "source": [
    "w = \"abhishekbhambak\""
   ]
  },
  {
   "cell_type": "code",
   "execution_count": 5,
   "id": "44262ef0",
   "metadata": {},
   "outputs": [
    {
     "data": {
      "text/plain": [
       "'ahse'"
      ]
     },
     "execution_count": 5,
     "metadata": {},
     "output_type": "execute_result"
    }
   ],
   "source": [
    "w[0:7:2]"
   ]
  },
  {
   "cell_type": "code",
   "execution_count": 6,
   "id": "5dc89939",
   "metadata": {},
   "outputs": [
    {
     "data": {
      "text/plain": [
       "'bab'"
      ]
     },
     "execution_count": 6,
     "metadata": {},
     "output_type": "execute_result"
    }
   ],
   "source": [
    "w[-7:-2:2]"
   ]
  },
  {
   "cell_type": "code",
   "execution_count": 7,
   "id": "7236f5be",
   "metadata": {},
   "outputs": [
    {
     "data": {
      "text/plain": [
       "'kabmahbkehsihba'"
      ]
     },
     "execution_count": 7,
     "metadata": {},
     "output_type": "execute_result"
    }
   ],
   "source": [
    "w[::-1]"
   ]
  },
  {
   "cell_type": "code",
   "execution_count": 8,
   "id": "33c1af93",
   "metadata": {},
   "outputs": [
    {
     "data": {
      "text/plain": [
       "'kbabesha'"
      ]
     },
     "execution_count": 8,
     "metadata": {},
     "output_type": "execute_result"
    }
   ],
   "source": [
    "w[::-2]"
   ]
  },
  {
   "cell_type": "code",
   "execution_count": 9,
   "id": "b0792e93",
   "metadata": {},
   "outputs": [
    {
     "data": {
      "text/plain": [
       "True"
      ]
     },
     "execution_count": 9,
     "metadata": {},
     "output_type": "execute_result"
    }
   ],
   "source": [
    "'b' in w"
   ]
  },
  {
   "cell_type": "code",
   "execution_count": 10,
   "id": "b871dddb",
   "metadata": {},
   "outputs": [
    {
     "data": {
      "text/plain": [
       "False"
      ]
     },
     "execution_count": 10,
     "metadata": {},
     "output_type": "execute_result"
    }
   ],
   "source": [
    "'b' not in w"
   ]
  },
  {
   "cell_type": "code",
   "execution_count": 11,
   "id": "cd7ca9d2",
   "metadata": {},
   "outputs": [
    {
     "data": {
      "text/plain": [
       "'school'"
      ]
     },
     "execution_count": 11,
     "metadata": {},
     "output_type": "execute_result"
    }
   ],
   "source": [
    "word"
   ]
  },
  {
   "cell_type": "code",
   "execution_count": 12,
   "id": "9a342e70",
   "metadata": {},
   "outputs": [
    {
     "data": {
      "text/plain": [
       "'abhishekbhambak'"
      ]
     },
     "execution_count": 12,
     "metadata": {},
     "output_type": "execute_result"
    }
   ],
   "source": [
    "w"
   ]
  },
  {
   "cell_type": "code",
   "execution_count": 13,
   "id": "08030914",
   "metadata": {},
   "outputs": [
    {
     "data": {
      "text/plain": [
       "'schoolabhishekbhambak'"
      ]
     },
     "execution_count": 13,
     "metadata": {},
     "output_type": "execute_result"
    }
   ],
   "source": [
    "word+w"
   ]
  },
  {
   "cell_type": "code",
   "execution_count": 14,
   "id": "af168ce5",
   "metadata": {},
   "outputs": [
    {
     "data": {
      "text/plain": [
       "'hellohellohello'"
      ]
     },
     "execution_count": 14,
     "metadata": {},
     "output_type": "execute_result"
    }
   ],
   "source": [
    "'hello'*3"
   ]
  },
  {
   "cell_type": "code",
   "execution_count": 15,
   "id": "dfe9963a",
   "metadata": {},
   "outputs": [
    {
     "data": {
      "text/plain": [
       "'abhiabhiabhiabhiabhiabhiabhiabhiabhiabhi'"
      ]
     },
     "execution_count": 15,
     "metadata": {},
     "output_type": "execute_result"
    }
   ],
   "source": [
    "'abhi'*10"
   ]
  },
  {
   "cell_type": "code",
   "execution_count": 17,
   "id": "c24839fb",
   "metadata": {},
   "outputs": [
    {
     "data": {
      "text/plain": [
       "True"
      ]
     },
     "execution_count": 17,
     "metadata": {},
     "output_type": "execute_result"
    }
   ],
   "source": [
    "'xyz' == 'xyz'"
   ]
  },
  {
   "cell_type": "code",
   "execution_count": 18,
   "id": "38d02c5c",
   "metadata": {},
   "outputs": [
    {
     "data": {
      "text/plain": [
       "False"
      ]
     },
     "execution_count": 18,
     "metadata": {},
     "output_type": "execute_result"
    }
   ],
   "source": [
    "'XYZ' == 'xyz'"
   ]
  },
  {
   "cell_type": "code",
   "execution_count": 19,
   "id": "fec3d676",
   "metadata": {},
   "outputs": [
    {
     "data": {
      "text/plain": [
       "97"
      ]
     },
     "execution_count": 19,
     "metadata": {},
     "output_type": "execute_result"
    }
   ],
   "source": [
    "# finding unicode of a charecter\n",
    "\n",
    "ord('a')"
   ]
  },
  {
   "cell_type": "code",
   "execution_count": 20,
   "id": "8bf517e9",
   "metadata": {},
   "outputs": [
    {
     "data": {
      "text/plain": [
       "110"
      ]
     },
     "execution_count": 20,
     "metadata": {},
     "output_type": "execute_result"
    }
   ],
   "source": [
    "ord('n')"
   ]
  },
  {
   "cell_type": "code",
   "execution_count": 21,
   "id": "0b2e227f",
   "metadata": {},
   "outputs": [
    {
     "data": {
      "text/plain": [
       "78"
      ]
     },
     "execution_count": 21,
     "metadata": {},
     "output_type": "execute_result"
    }
   ],
   "source": [
    "ord('N')"
   ]
  },
  {
   "cell_type": "code",
   "execution_count": 24,
   "id": "fae9c61a",
   "metadata": {},
   "outputs": [
    {
     "name": "stdout",
     "output_type": "stream",
     "text": [
      "h\n",
      "e\n",
      "l\n",
      "l\n",
      "o\n"
     ]
    }
   ],
   "source": [
    "# traversing a string\n",
    "\n",
    "str = 'hello'\n",
    "for i in str:\n",
    "    print(i)"
   ]
  },
  {
   "cell_type": "code",
   "execution_count": 25,
   "id": "cf4a989b",
   "metadata": {},
   "outputs": [
    {
     "name": "stdout",
     "output_type": "stream",
     "text": [
      "h\n",
      "e\n",
      "l\n",
      "l\n",
      "o\n"
     ]
    }
   ],
   "source": [
    "length = len(str)\n",
    "\n",
    "for i in range(length):\n",
    "    print(str[i])"
   ]
  },
  {
   "cell_type": "code",
   "execution_count": 27,
   "id": "e301ad3f",
   "metadata": {},
   "outputs": [
    {
     "name": "stdout",
     "output_type": "stream",
     "text": [
      "r\n",
      "a\n",
      "m\n",
      "p\n",
      "a\n",
      "l\n"
     ]
    }
   ],
   "source": [
    "z = \"rampal\"\n",
    "l = len(z)\n",
    "\n",
    "for i in range(l):\n",
    "    print(z[i])"
   ]
  },
  {
   "cell_type": "code",
   "execution_count": 28,
   "id": "44e9fb34",
   "metadata": {},
   "outputs": [],
   "source": [
    "b = \"dhoom02002\""
   ]
  },
  {
   "cell_type": "code",
   "execution_count": 29,
   "id": "24144fe4",
   "metadata": {},
   "outputs": [
    {
     "data": {
      "text/plain": [
       "True"
      ]
     },
     "execution_count": 29,
     "metadata": {},
     "output_type": "execute_result"
    }
   ],
   "source": [
    "b.isalnum()"
   ]
  },
  {
   "cell_type": "code",
   "execution_count": 30,
   "id": "818dbc21",
   "metadata": {},
   "outputs": [
    {
     "data": {
      "text/plain": [
       "False"
      ]
     },
     "execution_count": 30,
     "metadata": {},
     "output_type": "execute_result"
    }
   ],
   "source": [
    "b.isalpha()"
   ]
  },
  {
   "cell_type": "code",
   "execution_count": 31,
   "id": "3c40b63d",
   "metadata": {},
   "outputs": [
    {
     "data": {
      "text/plain": [
       "False"
      ]
     },
     "execution_count": 31,
     "metadata": {},
     "output_type": "execute_result"
    }
   ],
   "source": [
    "b.isdigit()"
   ]
  },
  {
   "cell_type": "code",
   "execution_count": 32,
   "id": "bdddadab",
   "metadata": {},
   "outputs": [
    {
     "data": {
      "text/plain": [
       "True"
      ]
     },
     "execution_count": 32,
     "metadata": {},
     "output_type": "execute_result"
    }
   ],
   "source": [
    "b.islower()"
   ]
  },
  {
   "cell_type": "code",
   "execution_count": 33,
   "id": "ac6efbd8",
   "metadata": {},
   "outputs": [
    {
     "data": {
      "text/plain": [
       "False"
      ]
     },
     "execution_count": 33,
     "metadata": {},
     "output_type": "execute_result"
    }
   ],
   "source": [
    "b.isupper()"
   ]
  },
  {
   "cell_type": "code",
   "execution_count": 34,
   "id": "72cf879c",
   "metadata": {},
   "outputs": [],
   "source": [
    "v = ''"
   ]
  },
  {
   "cell_type": "code",
   "execution_count": 35,
   "id": "bade5a5e",
   "metadata": {},
   "outputs": [
    {
     "data": {
      "text/plain": [
       "''"
      ]
     },
     "execution_count": 35,
     "metadata": {},
     "output_type": "execute_result"
    }
   ],
   "source": [
    "v"
   ]
  },
  {
   "cell_type": "code",
   "execution_count": 36,
   "id": "c6878814",
   "metadata": {},
   "outputs": [
    {
     "data": {
      "text/plain": [
       "False"
      ]
     },
     "execution_count": 36,
     "metadata": {},
     "output_type": "execute_result"
    }
   ],
   "source": [
    "v.isspace()"
   ]
  },
  {
   "cell_type": "code",
   "execution_count": 37,
   "id": "75535749",
   "metadata": {},
   "outputs": [
    {
     "data": {
      "text/plain": [
       "False"
      ]
     },
     "execution_count": 37,
     "metadata": {},
     "output_type": "execute_result"
    }
   ],
   "source": [
    "b.isspace()"
   ]
  },
  {
   "cell_type": "code",
   "execution_count": 38,
   "id": "9afc02c9",
   "metadata": {},
   "outputs": [
    {
     "data": {
      "text/plain": [
       "'dhoom02002'"
      ]
     },
     "execution_count": 38,
     "metadata": {},
     "output_type": "execute_result"
    }
   ],
   "source": [
    "b.lower()"
   ]
  },
  {
   "cell_type": "code",
   "execution_count": 39,
   "id": "b55f695c",
   "metadata": {},
   "outputs": [
    {
     "data": {
      "text/plain": [
       "'DHOOM02002'"
      ]
     },
     "execution_count": 39,
     "metadata": {},
     "output_type": "execute_result"
    }
   ],
   "source": [
    "b.upper()"
   ]
  },
  {
   "cell_type": "code",
   "execution_count": 40,
   "id": "9fe66ed7",
   "metadata": {},
   "outputs": [],
   "source": [
    "m = '  thank you  '"
   ]
  },
  {
   "cell_type": "code",
   "execution_count": 41,
   "id": "7977f6c9",
   "metadata": {},
   "outputs": [
    {
     "data": {
      "text/plain": [
       "'thank you  '"
      ]
     },
     "execution_count": 41,
     "metadata": {},
     "output_type": "execute_result"
    }
   ],
   "source": [
    "m.lstrip()"
   ]
  },
  {
   "cell_type": "code",
   "execution_count": 43,
   "id": "2d2335a7",
   "metadata": {},
   "outputs": [
    {
     "data": {
      "text/plain": [
       "'  thank you'"
      ]
     },
     "execution_count": 43,
     "metadata": {},
     "output_type": "execute_result"
    }
   ],
   "source": [
    "m.rstrip()"
   ]
  },
  {
   "cell_type": "code",
   "execution_count": 44,
   "id": "7712cabc",
   "metadata": {},
   "outputs": [
    {
     "data": {
      "text/plain": [
       "'thank you'"
      ]
     },
     "execution_count": 44,
     "metadata": {},
     "output_type": "execute_result"
    }
   ],
   "source": [
    "m.strip()"
   ]
  },
  {
   "cell_type": "code",
   "execution_count": null,
   "id": "e6e39dba",
   "metadata": {},
   "outputs": [],
   "source": []
  }
 ],
 "metadata": {
  "kernelspec": {
   "display_name": "Python 3",
   "language": "python",
   "name": "python3"
  },
  "language_info": {
   "codemirror_mode": {
    "name": "ipython",
    "version": 3
   },
   "file_extension": ".py",
   "mimetype": "text/x-python",
   "name": "python",
   "nbconvert_exporter": "python",
   "pygments_lexer": "ipython3",
   "version": "3.8.8"
  }
 },
 "nbformat": 4,
 "nbformat_minor": 5
}
